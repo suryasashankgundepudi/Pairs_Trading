{
 "cells": [
  {
   "cell_type": "code",
   "execution_count": 1,
   "id": "7528366d",
   "metadata": {},
   "outputs": [],
   "source": [
    "import yfinance as yf\n",
    "import pandas as pd\n",
    "import numpy as np\n",
    "import plotly.express as px\n",
    "import plotly.graph_objects as go\n",
    "import quantstats as qs\n",
    "import matplotlib.pyplot as plt\n",
    "import seaborn as sns\n",
    "import shutil \n",
    "import os\n",
    "qs.extend_pandas()\n",
    "\n",
    "import warnings\n",
    "warnings.filterwarnings('ignore')"
   ]
  },
  {
   "cell_type": "markdown",
   "id": "d0165698",
   "metadata": {},
   "source": [
    "## Reading the trading signals data"
   ]
  },
  {
   "cell_type": "code",
   "execution_count": 2,
   "id": "745b6823",
   "metadata": {},
   "outputs": [],
   "source": [
    "df_trading_signals = pd.read_csv(\"data/trading_signals.csv\", index_col = 0, parse_dates=True)"
   ]
  },
  {
   "cell_type": "code",
   "execution_count": 3,
   "id": "696d70ca",
   "metadata": {},
   "outputs": [
    {
     "data": {
      "text/html": [
       "<div>\n",
       "<style scoped>\n",
       "    .dataframe tbody tr th:only-of-type {\n",
       "        vertical-align: middle;\n",
       "    }\n",
       "\n",
       "    .dataframe tbody tr th {\n",
       "        vertical-align: top;\n",
       "    }\n",
       "\n",
       "    .dataframe thead th {\n",
       "        text-align: right;\n",
       "    }\n",
       "</style>\n",
       "<table border=\"1\" class=\"dataframe\">\n",
       "  <thead>\n",
       "    <tr style=\"text-align: right;\">\n",
       "      <th></th>\n",
       "      <th>Price-PNC</th>\n",
       "      <th>Price-BAC</th>\n",
       "      <th>BAC-PNC</th>\n",
       "      <th>BAC-PNC-signals</th>\n",
       "      <th>Price-MS-PK</th>\n",
       "      <th>Price-USB-PH</th>\n",
       "      <th>MS-PK-USB-PH</th>\n",
       "      <th>MS-PK-USB-PH-signals</th>\n",
       "      <th>Price-CRZBY</th>\n",
       "      <th>CRZBY-BAC</th>\n",
       "      <th>CRZBY-BAC-signals</th>\n",
       "    </tr>\n",
       "    <tr>\n",
       "      <th>Date</th>\n",
       "      <th></th>\n",
       "      <th></th>\n",
       "      <th></th>\n",
       "      <th></th>\n",
       "      <th></th>\n",
       "      <th></th>\n",
       "      <th></th>\n",
       "      <th></th>\n",
       "      <th></th>\n",
       "      <th></th>\n",
       "      <th></th>\n",
       "    </tr>\n",
       "  </thead>\n",
       "  <tbody>\n",
       "    <tr>\n",
       "      <th>2022-08-11</th>\n",
       "      <td>170.253983</td>\n",
       "      <td>35.674946</td>\n",
       "      <td>-0.256736</td>\n",
       "      <td>0</td>\n",
       "      <td>25.390839</td>\n",
       "      <td>20.813704</td>\n",
       "      <td>-1.566423</td>\n",
       "      <td>1</td>\n",
       "      <td>7.08</td>\n",
       "      <td>-0.937327</td>\n",
       "      <td>0</td>\n",
       "    </tr>\n",
       "    <tr>\n",
       "      <th>2022-08-12</th>\n",
       "      <td>172.917603</td>\n",
       "      <td>36.062393</td>\n",
       "      <td>-0.445307</td>\n",
       "      <td>0</td>\n",
       "      <td>25.380985</td>\n",
       "      <td>20.863144</td>\n",
       "      <td>-1.708225</td>\n",
       "      <td>1</td>\n",
       "      <td>7.34</td>\n",
       "      <td>-0.673181</td>\n",
       "      <td>0</td>\n",
       "    </tr>\n",
       "    <tr>\n",
       "      <th>2022-08-15</th>\n",
       "      <td>172.224457</td>\n",
       "      <td>36.012718</td>\n",
       "      <td>-0.340061</td>\n",
       "      <td>0</td>\n",
       "      <td>25.440104</td>\n",
       "      <td>20.962021</td>\n",
       "      <td>-1.831263</td>\n",
       "      <td>1</td>\n",
       "      <td>7.21</td>\n",
       "      <td>-0.846369</td>\n",
       "      <td>0</td>\n",
       "    </tr>\n",
       "    <tr>\n",
       "      <th>2022-08-16</th>\n",
       "      <td>173.323578</td>\n",
       "      <td>36.400166</td>\n",
       "      <td>-0.166336</td>\n",
       "      <td>0</td>\n",
       "      <td>25.400692</td>\n",
       "      <td>20.952133</td>\n",
       "      <td>-1.886425</td>\n",
       "      <td>1</td>\n",
       "      <td>7.27</td>\n",
       "      <td>-0.871479</td>\n",
       "      <td>0</td>\n",
       "    </tr>\n",
       "    <tr>\n",
       "      <th>2022-08-17</th>\n",
       "      <td>171.640244</td>\n",
       "      <td>36.171673</td>\n",
       "      <td>-0.027179</td>\n",
       "      <td>0</td>\n",
       "      <td>25.144518</td>\n",
       "      <td>20.645611</td>\n",
       "      <td>-1.650691</td>\n",
       "      <td>1</td>\n",
       "      <td>7.14</td>\n",
       "      <td>-0.992813</td>\n",
       "      <td>0</td>\n",
       "    </tr>\n",
       "  </tbody>\n",
       "</table>\n",
       "</div>"
      ],
      "text/plain": [
       "             Price-PNC  Price-BAC   BAC-PNC  BAC-PNC-signals  Price-MS-PK  \\\n",
       "Date                                                                        \n",
       "2022-08-11  170.253983  35.674946 -0.256736                0    25.390839   \n",
       "2022-08-12  172.917603  36.062393 -0.445307                0    25.380985   \n",
       "2022-08-15  172.224457  36.012718 -0.340061                0    25.440104   \n",
       "2022-08-16  173.323578  36.400166 -0.166336                0    25.400692   \n",
       "2022-08-17  171.640244  36.171673 -0.027179                0    25.144518   \n",
       "\n",
       "            Price-USB-PH  MS-PK-USB-PH  MS-PK-USB-PH-signals  Price-CRZBY  \\\n",
       "Date                                                                        \n",
       "2022-08-11     20.813704     -1.566423                     1         7.08   \n",
       "2022-08-12     20.863144     -1.708225                     1         7.34   \n",
       "2022-08-15     20.962021     -1.831263                     1         7.21   \n",
       "2022-08-16     20.952133     -1.886425                     1         7.27   \n",
       "2022-08-17     20.645611     -1.650691                     1         7.14   \n",
       "\n",
       "            CRZBY-BAC  CRZBY-BAC-signals  \n",
       "Date                                      \n",
       "2022-08-11  -0.937327                  0  \n",
       "2022-08-12  -0.673181                  0  \n",
       "2022-08-15  -0.846369                  0  \n",
       "2022-08-16  -0.871479                  0  \n",
       "2022-08-17  -0.992813                  0  "
      ]
     },
     "execution_count": 3,
     "metadata": {},
     "output_type": "execute_result"
    }
   ],
   "source": [
    "df_trading_signals.head()"
   ]
  },
  {
   "cell_type": "markdown",
   "id": "228e7e24",
   "metadata": {},
   "source": [
    "## Creating a function for backtest"
   ]
  },
  {
   "cell_type": "code",
   "execution_count": 4,
   "id": "9c4e7c25",
   "metadata": {},
   "outputs": [],
   "source": [
    "def backtest(df_trading, asset1 : str, asset2 : str):\n",
    "    # Calculate profit and loss for each asset separately\n",
    "    # Column names\n",
    "    \n",
    "    money = 10^5\n",
    "    \n",
    "    asset1_price = \"Price-\" + str(asset1)\n",
    "    asset2_price = \"Price-\" + str(asset2)\n",
    "    zscore = str(asset1) + \"-\" + str(asset2)\n",
    "    signals = str(asset1) + \"-\" + str(asset2) + \"-\" + \"signals\"\n",
    "    \n",
    "    df = df_trading[[asset1_price, asset2_price, zscore, signals]].copy(deep = False)\n",
    "    \n",
    "    df[\"positions1\"] = df[signals].diff()\n",
    "    df[\"signals2\"] = -df[signals]\n",
    "    df[\"positions2\"] = df[\"signals2\"].diff()\n",
    "    \n",
    "    df['z upper limit'] = np.mean(df[zscore]) + np.std(df[zscore])\n",
    "    df['z lower limit'] = np.mean(df[zscore]) - np.std(df[zscore])\n",
    "    \n",
    "    \n",
    "    \n",
    "    # floor division of no.of shares \n",
    "    no_of_shares_1 = money // max(df[asset1_price]) #12 // 5 = 2\n",
    "    no_of_shares_2 = money // max(df[asset2_price])\n",
    "    \n",
    "    # asset 1\n",
    "    portfolio = pd.DataFrame()\n",
    "    portfolio['asset1'] = df[asset1_price]\n",
    "    portfolio['holdings1'] = df['positions1'].cumsum() * df[asset1_price] * no_of_shares_1 \n",
    "    portfolio['remaining_cash'] = money - (df['positions1'] * df[asset1_price] * no_of_shares_1).cumsum() \n",
    "    portfolio['total asset1'] = portfolio['holdings1'] + portfolio['remaining_cash'] \n",
    "    portfolio['return1'] = portfolio['total asset1'].pct_change()\n",
    "\n",
    "    \n",
    "    # asset 2\n",
    "    portfolio['asset2'] = df[asset2_price]\n",
    "    portfolio['holdings2'] = df['positions2'].cumsum() * df[asset2_price] * no_of_shares_2\n",
    "    portfolio['remaining_cash2'] = money - (df['positions2'] * df[asset2_price] * no_of_shares_2).cumsum()\n",
    "    portfolio['total asset2'] = portfolio['holdings2'] + portfolio['remaining_cash2']\n",
    "    portfolio['return2'] = portfolio['total asset2'].pct_change()\n",
    "\n",
    "    # combining both profit and loss\n",
    "    portfolio['z'] = df[zscore]\n",
    "    portfolio['total asset'] = portfolio['total asset1'] + portfolio['total asset2']\n",
    "    portfolio['z upper limit'] = df['z upper limit']\n",
    "    portfolio['z lower limit'] = df['z lower limit']\n",
    "    portfolio.dropna(inplace = True)\n",
    "\n",
    "    # calculate CAGR (compounded annual growth rate)\n",
    "    final_portfolio = portfolio['total asset'].iloc[-1] # last value in the column total asset\n",
    "    delta = (portfolio.index[-1] - portfolio.index[0]).days\n",
    "    print('Number of days = ', delta)\n",
    "    YEAR_DAYS = 252\n",
    "    returns = (final_portfolio/money) ** (delta/YEAR_DAYS) - 1\n",
    "    print('CAGR = {:.3f}%' .format(returns * 100))\n",
    "    \n",
    "    return df, portfolio"
   ]
  },
  {
   "cell_type": "code",
   "execution_count": 5,
   "id": "67dce2b7",
   "metadata": {},
   "outputs": [
    {
     "name": "stdout",
     "output_type": "stream",
     "text": [
      "Number of days =  67\n",
      "CAGR = 20.236%\n"
     ]
    }
   ],
   "source": [
    "df1, portfolio1 = backtest(df_trading=df_trading_signals, asset1 = \"BAC\", asset2 =\"PNC\")"
   ]
  },
  {
   "cell_type": "code",
   "execution_count": 6,
   "id": "510adbea",
   "metadata": {},
   "outputs": [
    {
     "name": "stdout",
     "output_type": "stream",
     "text": [
      "Number of days =  67\n",
      "CAGR = 20.236%\n"
     ]
    }
   ],
   "source": [
    "df2, portfolio2 = backtest(df_trading=df_trading_signals, asset1 = \"MS-PK\", asset2 =\"USB-PH\")"
   ]
  },
  {
   "cell_type": "code",
   "execution_count": 7,
   "id": "68d04058",
   "metadata": {
    "scrolled": true
   },
   "outputs": [
    {
     "name": "stdout",
     "output_type": "stream",
     "text": [
      "Number of days =  67\n",
      "CAGR = 21.018%\n"
     ]
    }
   ],
   "source": [
    "df3, portfolio3 =  backtest(df_trading=df_trading_signals, asset1 = \"CRZBY\", asset2 =\"BAC\")"
   ]
  },
  {
   "cell_type": "markdown",
   "id": "2cf38584",
   "metadata": {},
   "source": [
    " \n",
    " "
   ]
  },
  {
   "cell_type": "markdown",
   "id": "8de3af6a",
   "metadata": {},
   "source": [
    " \n",
    " "
   ]
  }
 ],
 "metadata": {
  "kernelspec": {
   "display_name": "Python 3 (ipykernel)",
   "language": "python",
   "name": "python3"
  },
  "language_info": {
   "codemirror_mode": {
    "name": "ipython",
    "version": 3
   },
   "file_extension": ".py",
   "mimetype": "text/x-python",
   "name": "python",
   "nbconvert_exporter": "python",
   "pygments_lexer": "ipython3",
   "version": "3.9.12"
  }
 },
 "nbformat": 4,
 "nbformat_minor": 5
}
